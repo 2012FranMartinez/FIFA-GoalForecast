{
 "cells": [
  {
   "cell_type": "code",
   "execution_count": 1,
   "metadata": {},
   "outputs": [],
   "source": [
    "import pandas as pd\n",
    "import numpy as np\n",
    "import matplotlib.pyplot as plt\n",
    "import seaborn as sns\n",
    "import os\n",
    "\n",
    "pd.options.display.max_columns = None"
   ]
  },
  {
   "cell_type": "code",
   "execution_count": 2,
   "metadata": {},
   "outputs": [],
   "source": [
    "df_fifa22 = pd.read_csv(\"../data/players_22.csv\")\n",
    "df_goles22 = pd.read_csv(\"../data/All_stats_2022_id.csv\")"
   ]
  },
  {
   "cell_type": "markdown",
   "metadata": {},
   "source": [
    "# Limpiar datos"
   ]
  },
  {
   "cell_type": "code",
   "execution_count": 3,
   "metadata": {},
   "outputs": [],
   "source": [
    "df_fifa22 = df_fifa22.rename(columns={\"sofifa_id\":\"id_fiffa\"})"
   ]
  },
  {
   "cell_type": "code",
   "execution_count": 4,
   "metadata": {},
   "outputs": [],
   "source": [
    "df_goles22.replace('-',0, inplace=True)\n",
    "df_goles22[\"Goals_x\"]=df_goles22[\"Goals_x\"].astype(int);"
   ]
  },
  {
   "cell_type": "markdown",
   "metadata": {},
   "source": [
    "# Seleccionar cols"
   ]
  },
  {
   "cell_type": "code",
   "execution_count": 5,
   "metadata": {},
   "outputs": [],
   "source": [
    "df_goles22 = df_goles22[[\"id_fifa\",\"nom_jugad\",\"Rating_x\",\"Goals_x\"]]\n",
    "# df_goles22 = df_goles22[[\"id_fifa\",'Player_x', 'Apps_x', 'Mins_x', 'Assists', 'SpG', 'KeyP',\n",
    "#        'Drb', 'Fouled', 'Off', 'Disp', 'UnsTch', 'Rating_x', 'Liga_x',\n",
    "#        'num_x', 'nom_jugad', 'equipo_x', 'ns_x', 'posicion_x','Goals_x']]"
   ]
  },
  {
   "cell_type": "code",
   "execution_count": 6,
   "metadata": {},
   "outputs": [],
   "source": [
    "# df_fifa22 = df_fifa22[[\"id_fifa\",\"short_name\", \"overall\",\"value_eur\",\"shooting\",\"skill_ball_control\",\"skill_fk_accuracy\",\"skill_fk_accuracy\",\"mentality_penalties\"]]\n",
    "# df_fifa22 = df_fifa22[[\"id_fifa\",\"overall\",\"short_name\",\"value_eur\",\"shooting\",\"skill_ball_control\",\"mentality_penalties\"]]\n",
    "df_fifa22 = df_fifa22[[\"id_fifa\",\"short_name\",\"overall\",\"shooting\",\"value_eur\"]]"
   ]
  },
  {
   "cell_type": "code",
   "execution_count": 7,
   "metadata": {},
   "outputs": [],
   "source": [
    "df = pd.merge(df_fifa22, df_goles22, on=\"id_fifa\", how=\"outer\")"
   ]
  },
  {
   "cell_type": "code",
   "execution_count": 8,
   "metadata": {},
   "outputs": [],
   "source": [
    "df = df.dropna(subset=[\"short_name\"])\n",
    "df = df.dropna(subset=[\"shooting\"])\n",
    "df = df.dropna(subset=[\"nom_jugad\"])"
   ]
  },
  {
   "cell_type": "code",
   "execution_count": 9,
   "metadata": {},
   "outputs": [],
   "source": [
    "# Ordenar por short_name y luego por overall (de mayor a menor)\n",
    "df = df.sort_values(by=['short_name', 'overall'], ascending=[True, False])\n",
    "\n",
    "# Eliminar duplicados, manteniendo el primero (el de mayor overall)\n",
    "df = df.drop_duplicates(subset='short_name', keep='first')\n"
   ]
  },
  {
   "cell_type": "code",
   "execution_count": 10,
   "metadata": {},
   "outputs": [],
   "source": [
    "df.drop(columns=[\"nom_jugad\",\"short_name\",\"id_fifa\"], inplace=True)"
   ]
  },
  {
   "cell_type": "code",
   "execution_count": 11,
   "metadata": {},
   "outputs": [],
   "source": [
    "df[\"value_eur\"] = df[\"value_eur\"].astype(int)\n",
    "df[\"Goals_x\"] = df[\"Goals_x\"].astype(int)\n",
    "df[\"shooting\"] = df[\"shooting\"].astype(int)\n",
    "df[\"overall\"] = df[\"overall\"].astype(int)"
   ]
  },
  {
   "cell_type": "code",
   "execution_count": 12,
   "metadata": {},
   "outputs": [
    {
     "data": {
      "text/html": [
       "<div>\n",
       "<style scoped>\n",
       "    .dataframe tbody tr th:only-of-type {\n",
       "        vertical-align: middle;\n",
       "    }\n",
       "\n",
       "    .dataframe tbody tr th {\n",
       "        vertical-align: top;\n",
       "    }\n",
       "\n",
       "    .dataframe thead th {\n",
       "        text-align: right;\n",
       "    }\n",
       "</style>\n",
       "<table border=\"1\" class=\"dataframe\">\n",
       "  <thead>\n",
       "    <tr style=\"text-align: right;\">\n",
       "      <th></th>\n",
       "      <th>overall</th>\n",
       "      <th>shooting</th>\n",
       "      <th>value_eur</th>\n",
       "      <th>Rating_x</th>\n",
       "      <th>Goals_x</th>\n",
       "    </tr>\n",
       "  </thead>\n",
       "  <tbody>\n",
       "    <tr>\n",
       "      <th>15731</th>\n",
       "      <td>70</td>\n",
       "      <td>59</td>\n",
       "      <td>1700000</td>\n",
       "      <td>6.94</td>\n",
       "      <td>1</td>\n",
       "    </tr>\n",
       "    <tr>\n",
       "      <th>16599</th>\n",
       "      <td>71</td>\n",
       "      <td>72</td>\n",
       "      <td>4600000</td>\n",
       "      <td>6.50</td>\n",
       "      <td>0</td>\n",
       "    </tr>\n",
       "    <tr>\n",
       "      <th>6720</th>\n",
       "      <td>76</td>\n",
       "      <td>77</td>\n",
       "      <td>12000000</td>\n",
       "      <td>6.15</td>\n",
       "      <td>1</td>\n",
       "    </tr>\n",
       "    <tr>\n",
       "      <th>17899</th>\n",
       "      <td>63</td>\n",
       "      <td>45</td>\n",
       "      <td>1000000</td>\n",
       "      <td>5.92</td>\n",
       "      <td>0</td>\n",
       "    </tr>\n",
       "    <tr>\n",
       "      <th>3809</th>\n",
       "      <td>66</td>\n",
       "      <td>38</td>\n",
       "      <td>700000</td>\n",
       "      <td>6.33</td>\n",
       "      <td>0</td>\n",
       "    </tr>\n",
       "  </tbody>\n",
       "</table>\n",
       "</div>"
      ],
      "text/plain": [
       "       overall  shooting  value_eur  Rating_x  Goals_x\n",
       "15731       70        59    1700000      6.94        1\n",
       "16599       71        72    4600000      6.50        0\n",
       "6720        76        77   12000000      6.15        1\n",
       "17899       63        45    1000000      5.92        0\n",
       "3809        66        38     700000      6.33        0"
      ]
     },
     "execution_count": 12,
     "metadata": {},
     "output_type": "execute_result"
    }
   ],
   "source": [
    "df.head()"
   ]
  },
  {
   "cell_type": "code",
   "execution_count": 13,
   "metadata": {},
   "outputs": [
    {
     "data": {
      "text/plain": [
       "<Axes: >"
      ]
     },
     "execution_count": 13,
     "metadata": {},
     "output_type": "execute_result"
    },
    {
     "data": {
      "image/png": "[encoded data removed]",
      "text/plain": [
       "<Figure size 1440x720 with 2 Axes>"
      ]
     },
     "metadata": {
      "needs_background": "light"
     },
     "output_type": "display_data"
    }
   ],
   "source": [
    "plt.figure(figsize=(20,10))\n",
    "sns.heatmap(df.corr(numeric_only=True),annot=True,cmap=\"coolwarm\",vmin=-1,vmax=1)"
   ]
  },
  {
   "cell_type": "code",
   "execution_count": 14,
   "metadata": {},
   "outputs": [
    {
     "name": "stdout",
     "output_type": "stream",
     "text": [
      "Fitting 10 folds for each of 3 candidates, totalling 30 fits\n",
      "Mean Squared Error: 2.129110313279086\n",
      "Mean Absolute Error: 0.9997493555906383\n",
      "R-squared: 0.2467770118116438\n"
     ]
    }
   ],
   "source": [
    "import pandas as pd\n",
    "import numpy as np\n",
    "from sklearn.pipeline import Pipeline\n",
    "from sklearn.model_selection import train_test_split, GridSearchCV\n",
    "from sklearn.linear_model import LinearRegression\n",
    "from sklearn.metrics import mean_squared_error, r2_score, mean_absolute_error\n",
    "from sklearn.preprocessing import MinMaxScaler, StandardScaler\n",
    "import pickle\n",
    "\n",
    "# Seleccionar características y variable objetivo\n",
    "X = df.select_dtypes(include=\"number\").drop([\"Goals_x\"], axis=1)\n",
    "Y = df['Goals_x']\n",
    "\n",
    "# Dividir los datos en conjunto de entrenamiento y prueba\n",
    "X_train, X_test, Y_train, Y_test = train_test_split(X, Y, test_size=0.2, random_state=42)\n",
    "\n",
    "pipe = Pipeline(steps=[(\"scaler\", StandardScaler()),\n",
    "    ('classifier', LinearRegression())\n",
    "])\n",
    "\n",
    "linear_params = {\n",
    "    'scaler': [StandardScaler(), MinMaxScaler(), None],\n",
    "    'classifier': [LinearRegression()]\n",
    "}\n",
    "\n",
    "search_space = [\n",
    "    linear_params\n",
    "]\n",
    "\n",
    "gs = GridSearchCV(estimator = pipe,\n",
    "                  param_grid = search_space,\n",
    "                  cv = 10,\n",
    "                  scoring='r2',\n",
    "                  verbose=2,\n",
    "                  n_jobs=-1)\n",
    "\n",
    "gs.fit(X_train, Y_train)\n",
    "\n",
    "# Guardar el mejor modelo en un archivo .pkl\n",
    "best_model = gs.best_estimator_\n",
    "with open('../models/ModeloSimpleFifa_best_linear_model.pkl', 'wb') as file:\n",
    "    pickle.dump(best_model, file)\n",
    "\n",
    "# Evaluación del modelo\n",
    "Y_pred = best_model.predict(X_test)\n",
    "mse = mean_squared_error(Y_test, Y_pred)\n",
    "mae = mean_absolute_error(Y_test, Y_pred)\n",
    "r2 = r2_score(Y_test, Y_pred)\n",
    "\n",
    "# Resultados\n",
    "print(f\"Mean Squared Error: {mse}\")\n",
    "print(f\"Mean Absolute Error: {mae}\")\n",
    "print(f\"R-squared: {r2}\")\n"
   ]
  },
  {
   "cell_type": "code",
   "execution_count": 15,
   "metadata": {},
   "outputs": [
    {
     "name": "stdout",
     "output_type": "stream",
     "text": [
      "Fitting 10 folds for each of 54 candidates, totalling 540 fits\n",
      "Mean Squared Error (XGBoost): 2.4823523335433735\n",
      "Mean Absolute Error (XGBoost): 0.9587539107159332\n",
      "R-squared (XGBoost): 0.12180936336517334\n"
     ]
    }
   ],
   "source": [
    "import xgboost as xgb\n",
    "from sklearn.pipeline import Pipeline\n",
    "from sklearn.model_selection import GridSearchCV\n",
    "from sklearn.preprocessing import StandardScaler, MinMaxScaler\n",
    "from sklearn.metrics import mean_squared_error, mean_absolute_error, r2_score\n",
    "import pickle\n",
    "\n",
    "# Definir el pipeline\n",
    "pipe = Pipeline(steps=[\n",
    "    (\"scaler\", StandardScaler()),  # o MinMaxScaler\n",
    "    ('classifier', xgb.XGBRegressor())  # Cambiar el clasificador por el regressor\n",
    "])\n",
    "\n",
    "# Definir el espacio de parámetros para GridSearchCV\n",
    "xgb_params = {\n",
    "    'scaler': [StandardScaler(), MinMaxScaler(), None],\n",
    "    'classifier': [xgb.XGBRegressor()],\n",
    "    'classifier__n_estimators': [100, 200],\n",
    "    'classifier__max_depth': [3, 6, 10],\n",
    "    'classifier__learning_rate': [0.01, 0.1, 0.2]\n",
    "}\n",
    "\n",
    "# Configurar GridSearchCV\n",
    "gs = GridSearchCV(estimator=pipe,\n",
    "                  param_grid=xgb_params,\n",
    "                  cv=10,\n",
    "                  scoring='r2',\n",
    "                  verbose=2,\n",
    "                  n_jobs=-1)\n",
    "\n",
    "# Ajustar el modelo con los datos de entrenamiento\n",
    "gs.fit(X_train, Y_train)\n",
    "\n",
    "# Guardar el mejor modelo encontrado\n",
    "best_model_xgb = gs.best_estimator_\n",
    "with open('../models/ModeloSimpleFifa_best_xgb_model.pkl', 'wb') as file:\n",
    "    pickle.dump(best_model_xgb, file)\n",
    "\n",
    "# Evaluación del modelo\n",
    "\n",
    "Y_pred_xgb = best_model_xgb.predict(X_test)\n",
    "mse_xgb = mean_squared_error(Y_test, Y_pred_xgb)\n",
    "mae_xgb = mean_absolute_error(Y_test, Y_pred_xgb)\n",
    "r2_xgb = r2_score(Y_test, Y_pred_xgb)\n",
    "\n",
    "# Mostrar los resultados\n",
    "print(f\"Mean Squared Error (XGBoost): {mse_xgb}\")\n",
    "print(f\"Mean Absolute Error (XGBoost): {mae_xgb}\")\n",
    "print(f\"R-squared (XGBoost): {r2_xgb}\")\n"
   ]
  }
 ],
 "metadata": {
  "kernelspec": {
   "display_name": "Python 3",
   "language": "python",
   "name": "python3"
  },
  "language_info": {
   "codemirror_mode": {
    "name": "ipython",
    "version": 3
   },
   "file_extension": ".py",
   "mimetype": "text/x-python",
   "name": "python",
   "nbconvert_exporter": "python",
   "pygments_lexer": "ipython3",
   "version": "3.10.2"
  }
 },
 "nbformat": 4,
 "nbformat_minor": 2
}
